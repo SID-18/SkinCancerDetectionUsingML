{
  "nbformat": 4,
  "nbformat_minor": 0,
  "metadata": {
    "colab": {
      "provenance": []
    },
    "kernelspec": {
      "name": "python3",
      "display_name": "Python 3"
    },
    "language_info": {
      "name": "python"
    }
  },
  "cells": [
    {
      "cell_type": "code",
      "execution_count": null,
      "metadata": {
        "id": "daQFQi0sajzX"
      },
      "outputs": [],
      "source": [
        "import cv2\n",
        "import os\n",
        "import numpy as np\n",
        "from skimage.feature import hog\n",
        "from skimage import exposure\n",
        "\n",
        "# Define HOG parameters\n",
        "orientations = 9\n",
        "pixels_per_cell = (8, 8)\n",
        "cells_per_block = (2, 2)\n",
        "\n",
        "# Define function to extract HOG features\n",
        "def extract_features(image):\n",
        "    \"\"\"\n",
        "    Extracts HOG features from the given image\n",
        "    \"\"\"\n",
        "    gray_image = cv2.cvtColor(image, cv2.COLOR_RGB2GRAY)\n",
        "    hog_features = hog(gray_image, orientations=orientations, pixels_per_cell=pixels_per_cell, cells_per_block=cells_per_block, transform_sqrt=True, block_norm=\"L1\")\n",
        "    hog_features = np.array(hog_features)\n",
        "    return hog_features"
      ]
    },
    {
      "cell_type": "code",
      "source": [],
      "metadata": {
        "id": "NYx91BugMpz-"
      },
      "execution_count": null,
      "outputs": []
    },
    {
      "cell_type": "code",
      "source": [
        "# Load the dataset\n",
        "X = []  # Input images\n",
        "y = []  # Output labels\n",
        "# Path to the directories containing the benign and malignant images\n",
        "\n",
        "benign_path = \"benign\"\n",
        "malignant_path = \"malignant\"\n",
        "\n",
        "# Load the benign images and assign labels\n",
        "for filename in os.listdir(benign_path):\n",
        "    if filename.endswith(\".jpg\"):\n",
        "        image_path = os.path.join(benign_path, filename)\n",
        "        image = cv2.imread(image_path)\n",
        "        image = cv2.cvtColor(image, cv2.COLOR_BGR2RGB)\n",
        "        X.append(image)\n",
        "        y.append(0)\n",
        "\n",
        "# Load the malignant images and assign labels\n",
        "for filename in os.listdir(malignant_path):\n",
        "    if filename.endswith(\".jpg\"):\n",
        "        image_path = os.path.join(malignant_path, filename)\n",
        "        image = cv2.imread(image_path)\n",
        "        image = cv2.cvtColor(image, cv2.COLOR_BGR2RGB)\n",
        "        X.append(image)\n",
        "        y.append(1)\n",
        "\n",
        "\n",
        "\n",
        "\n",
        "\n",
        "# Split the dataset into training, validation, and testing sets\n",
        "from sklearn.model_selection import train_test_split\n",
        "X_train, X_test, y_train, y_test = train_test_split(X, y, test_size=0.2, random_state=42)"
      ],
      "metadata": {
        "id": "jcmNoDVDauHt"
      },
      "execution_count": null,
      "outputs": []
    },
    {
      "cell_type": "code",
      "source": [
        "len(X_train[0])"
      ],
      "metadata": {
        "colab": {
          "base_uri": "https://localhost:8080/"
        },
        "id": "9zWNS5JVumJF",
        "outputId": "42418168-5d00-4c4e-f595-45ff16c70cfd"
      },
      "execution_count": null,
      "outputs": [
        {
          "output_type": "execute_result",
          "data": {
            "text/plain": [
              "224"
            ]
          },
          "metadata": {},
          "execution_count": 11
        }
      ]
    },
    {
      "cell_type": "code",
      "source": [
        "from sklearn.svm import SVC\n",
        "\n",
        "# Define SVM classifier\n",
        "svm = SVC(kernel='linear', probability=True)\n",
        "\n",
        "# Extract features from the training set\n",
        "X_train_features = []\n",
        "for image in X_train:\n",
        "    features = extract_features(image)\n",
        "    features.shape\n",
        "    X_train_features.append(features)\n",
        "X_train_features = np.array(X_train_features)\n",
        "\n",
        "# Train the SVM classifier\n",
        "# svm.fit(X_train_features, y_train)"
      ],
      "metadata": {
        "colab": {
          "base_uri": "https://localhost:8080/"
        },
        "id": "-1YfjFdta2XH",
        "outputId": "842790ce-3a53-41bd-9d3d-48ca04ee2784"
      },
      "execution_count": null,
      "outputs": [
        {
          "output_type": "stream",
          "name": "stderr",
          "text": [
            "<ipython-input-12-90257eb66154>:12: VisibleDeprecationWarning: Creating an ndarray from ragged nested sequences (which is a list-or-tuple of lists-or-tuples-or ndarrays with different lengths or shapes) is deprecated. If you meant to do this, you must specify 'dtype=object' when creating the ndarray.\n",
            "  X_train_features = np.array(X_train_features)\n"
          ]
        }
      ]
    },
    {
      "cell_type": "code",
      "source": [
        "# Extract features from the test set\n",
        "from sklearn.metrics import accuracy_score\n",
        "from sklearn.metrics import precision_score, recall_score, f1_score\n",
        "X_test_features = []\n",
        "for image in X_test:\n",
        "    features = extract_features(image)\n",
        "    X_test_features.append(features)\n",
        "X_test_features = np.array(X_test_features)\n",
        "\n",
        "# Evaluate the SVM classifier on the test set\n",
        "accuracy = svm.score(X_test_features, y_test)\n",
        "y_pred = svm.predict(X_test_features)\n",
        "precision = precision_score(y_test, y_pred)\n",
        "recall = recall_score(y_test, y_pred)\n",
        "f1 = f1_score(y_test, y_pred)\n",
        "\n",
        "# Display the evaluation metrics\n",
        "print('Test Accuracy:', accuracy)\n",
        "print('Precision:', precision)\n",
        "print('Recall:', recall)\n",
        "print('F1 Score:', f1)"
      ],
      "metadata": {
        "colab": {
          "base_uri": "https://localhost:8080/"
        },
        "id": "kQc1xRSxa8mo",
        "outputId": "d2399f47-6ffd-4561-b35e-3720abfb623f"
      },
      "execution_count": null,
      "outputs": [
        {
          "output_type": "stream",
          "name": "stdout",
          "text": [
            "Test Accuracy: 0.7348484848484849\n",
            "Precision: 0.6888888888888889\n",
            "Recall: 0.5961538461538461\n",
            "F1 Score: 0.6391752577319588\n"
          ]
        }
      ]
    },
    {
      "cell_type": "code",
      "source": [
        "# Define function to predict the label and probability of a single image\n",
        "def predict_single_image(image):\n",
        "    # Extract HOG features from the image\n",
        "    features = extract_features(image)\n",
        "    # Reshape the features to match the shape of the training data\n",
        "    features = features.reshape(1, -1)\n",
        "    # Predict the label and probability using the trained SVM classifier\n",
        "    label = svm.predict(features)[0]\n",
        "    probability = svm.predict_proba(features)[0][label]\n",
        "    return label, probability\n",
        "\n",
        "# Load the single test image\n",
        "image_path = 'test/b1.jpg'\n",
        "image = cv2.imread(image_path)\n",
        "\n",
        "# Predict the label and probability of the test image\n",
        "if image is not None:\n",
        "    image = cv2.cvtColor(image, cv2.COLOR_BGR2RGB)\n",
        "    label, probability = predict_single_image(image)\n",
        "    print('Label:', label)\n",
        "    print('Probability:', probability)"
      ],
      "metadata": {
        "colab": {
          "base_uri": "https://localhost:8080/"
        },
        "id": "nM0N-6Nxa_v6",
        "outputId": "00754386-ca31-4372-e0f6-6f72825b41f8"
      },
      "execution_count": null,
      "outputs": [
        {
          "output_type": "stream",
          "name": "stdout",
          "text": [
            "Label: 0\n",
            "Probability: 0.8684873837460515\n"
          ]
        }
      ]
    }
  ]
}